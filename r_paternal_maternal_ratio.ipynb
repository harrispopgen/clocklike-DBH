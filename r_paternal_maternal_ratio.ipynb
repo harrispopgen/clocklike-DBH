{
 "cells": [
  {
   "cell_type": "code",
   "execution_count": 99,
   "metadata": {
    "vscode": {
     "languageId": "r"
    }
   },
   "outputs": [],
   "source": [
    "# install.packages(\"bbmle\")\n",
    "# install.packages(\"readxl\")\n",
    "# install.packages(\"gridExtra\")\n",
    "# install.packages(\"ggplot2\")\n",
    "# install.packages(\"egg\")"
   ]
  },
  {
   "cell_type": "code",
   "execution_count": 1,
   "metadata": {
    "vscode": {
     "languageId": "r"
    }
   },
   "outputs": [
    {
     "name": "stderr",
     "output_type": "stream",
     "text": [
      "Loading required package: stats4\n",
      "\n"
     ]
    }
   ],
   "source": [
    "library(\"bbmle\")\n",
    "library(\"readxl\")\n",
    "library(\"gridExtra\")\n",
    "library(\"ggplot2\")\n",
    "library(\"egg\")"
   ]
  },
  {
   "cell_type": "code",
   "execution_count": 2,
   "metadata": {
    "vscode": {
     "languageId": "r"
    }
   },
   "outputs": [],
   "source": [
    "options(repr.plot.width = 10, repr.plot.height = 5, repr.plot.res = 200)"
   ]
  },
  {
   "cell_type": "code",
   "execution_count": 4,
   "metadata": {
    "vscode": {
     "languageId": "r"
    }
   },
   "outputs": [],
   "source": [
    "parental_effect_log_likelihood <- function(beta_m_0, beta_m_1, beta_p_0, beta_p_1, x) {\n",
    "    # paternal_count, maternal_count, unphased_count, paternal_age, maternal_age, \n",
    "    paternal_count <- x$paternal_count\n",
    "    maternal_count <- x$maternal_count\n",
    "    unphased_count <- x$unphased_count\n",
    "    paternal_age <- x$paternal_age\n",
    "    maternal_age <- x$maternal_age\n",
    "\n",
    "    maternal_reg_term = beta_m_0 + beta_m_1 * maternal_age\n",
    "    paternal_reg_term = beta_p_0 + beta_p_1 * paternal_age\n",
    "    if (any(maternal_reg_term <= 0)) {\n",
    "        cat(beta_m_0, beta_m_1, maternal_reg_term)\n",
    "    }\n",
    "    return(-sum(maternal_count * log(maternal_reg_term) + paternal_count * log(paternal_reg_term) + unphased_count * log(maternal_reg_term + paternal_reg_term) - (maternal_reg_term + paternal_reg_term)))\n",
    "}\n",
    "\n",
    "estimate_paternal_maternal_effects <- function(df, beta_m_0_ini, beta_m_1_ini, beta_p_0_ini, beta_p_1_ini, print_output=FALSE) {\n",
    "    m_ll <- mle2(\n",
    "        parental_effect_log_likelihood, start=list(beta_m_0=beta_m_0_ini, beta_m_1=beta_m_1_ini, beta_p_0=beta_p_0_ini, beta_p_1=beta_p_1_ini), \n",
    "        lower=c(1e-8,1e-8,1e-8,1e-8), upper=c(Inf,Inf,Inf,Inf), method=\"L-BFGS-B\", data=list(x=df)\n",
    "        )\n",
    "    coef_ll <- coef(summary(m_ll))\n",
    "    beta_m_0_ll_est <- coef_ll[[1]]\n",
    "    beta_m_1_ll_est <- coef_ll[[2]]\n",
    "    beta_p_0_ll_est <- coef_ll[[3]]\n",
    "    beta_p_1_ll_est <- coef_ll[[4]]\n",
    "\n",
    "    m_p = lm(paternal_count ~ paternal_age, data=df)\n",
    "    m_m = lm(maternal_count ~ maternal_age, data=df)\n",
    "    beta_m_0_ols_est <- coef(summary(m_m))[[1]]\n",
    "    beta_m_1_ols_est <- coef(summary(m_m))[[2]]\n",
    "    beta_p_0_ols_est <- coef(summary(m_p))[[1]]\n",
    "    beta_p_1_ols_est <- coef(summary(m_p))[[2]]\n",
    "\n",
    "    intercept_sum = beta_m_0_ll_est + beta_p_0_ll_est\n",
    "    slope_sum = beta_m_1_ll_est + beta_p_1_ll_est\n",
    "    cat(\"total intercept: \", intercept_sum, \", total slope: \", slope_sum, \"\\n\")\n",
    "\n",
    "    if (print_output) {\n",
    "        cat(\"maternal effect (intercept) estimate log likelihood: \",  beta_m_0_ll_est, \"OLS: \", beta_m_0_ols_est, \"\\n\")\n",
    "        cat(\"paternal effect (intercept) estimate log likelihood: \",  beta_p_0_ll_est, \"OLS: \", beta_p_0_ols_est, \"\\n\")\n",
    "        cat(\"maternal effect (slope) estimate log likelihood: \",  beta_m_1_ll_est, \"OLS: \", beta_m_1_ols_est, \"\\n\")\n",
    "        cat(\"paternal effect (slope) estimate log likelihood: \",  beta_p_1_ll_est, \"OLS: \", beta_p_1_ols_est, \"\\n\")\n",
    "        cat(\"paternal / maternal ratio: \", beta_p_1_ll_est / beta_m_1_ll_est, \"OLS: \", beta_p_1_ols_est / beta_m_1_ols_est, \"\\n\")\n",
    "    }\n",
    "    return(c(beta_m_1_ll_est, beta_p_1_ll_est, beta_m_1_ols_est, beta_p_1_ols_est, m_ll)) #, beta_m_0_ll_est, beta_p_0_ll_est, beta_m_0_ols_est, beta_p_0_ols_est))\n",
    "}\n",
    "\n",
    "compare_ols_vs_ll_estimates <- function(data_generating_function) {\n",
    "    plot_data = data.frame()\n",
    "\n",
    "    for (i in 1:100) {\n",
    "        df_data <- data_generating_function()\n",
    "        estimates <- estimate_paternal_maternal_effects(df_data, 2, 0.5, 5, 2)\n",
    "        row <- data.frame(m_ll = estimates[1], p_ll = estimates[2], m_ols = estimates[3], p_ols = estimates[4])\n",
    "        plot_data <- rbind(plot_data, row)\n",
    "    }\n",
    "    p1 <- ggplot(plot_data, aes(x = m_ll, y = m_ols)) + geom_point() \n",
    "    p2 <- ggplot(plot_data, aes(x = p_ll, y = p_ols)) + geom_point() \n",
    "\n",
    "    grid.arrange(p1, p2, ncol=2)\n",
    "}"
   ]
  },
  {
   "cell_type": "code",
   "execution_count": 5,
   "metadata": {
    "vscode": {
     "languageId": "r"
    }
   },
   "outputs": [
    {
     "name": "stderr",
     "output_type": "stream",
     "text": [
      "Warning message in mle2(parental_effect_log_likelihood, start = list(beta_m_0 = beta_m_0_ini, :\n",
      "“some parameters are on the boundary: variance-covariance calculations based on Hessian may be unreliable”\n"
     ]
    },
    {
     "name": "stdout",
     "output_type": "stream",
     "text": [
      "total intercept:  18.04446 , total slope:  3.13757 \n",
      "maternal effect (intercept) estimate log likelihood:  1e-08 OLS:  -4.720664 \n",
      "paternal effect (intercept) estimate log likelihood:  18.04446 OLS:  7.789456 \n",
      "maternal effect (slope) estimate log likelihood:  2.45706 OLS:  1.145687 \n",
      "paternal effect (slope) estimate log likelihood:  0.6805108 OLS:  0.1145923 \n",
      "paternal / maternal ratio:  0.2769615 OLS:  0.1000206 \n"
     ]
    }
   ],
   "source": [
    "df_ayeaye_wang <- read.csv(\"./output/phased_counts/ayeaye_wang_phased_counts.csv\")\n",
    "df_ayeaye_wang$paternal_age <- df_ayeaye_wang$paternal_age - 3\n",
    "df_ayeaye_wang$maternal_age <- df_ayeaye_wang$maternal_age - 3\n",
    "ayeaye_output <- estimate_paternal_maternal_effects(df_ayeaye_wang, 1, 1, 8, 0.1, print_output=TRUE)"
   ]
  },
  {
   "cell_type": "markdown",
   "metadata": {},
   "source": [
    "## Baboon"
   ]
  },
  {
   "cell_type": "code",
   "execution_count": 6,
   "metadata": {
    "vscode": {
     "languageId": "r"
    }
   },
   "outputs": [
    {
     "name": "stderr",
     "output_type": "stream",
     "text": [
      "Warning message in mle2(parental_effect_log_likelihood, start = list(beta_m_0 = beta_m_0_ini, :\n",
      "“some parameters are on the boundary: variance-covariance calculations based on Hessian may be unreliable”\n"
     ]
    },
    {
     "name": "stdout",
     "output_type": "stream",
     "text": [
      "total intercept:  18.39785 , total slope:  0.9241126 \n",
      "maternal effect (intercept) estimate log likelihood:  4.463328 OLS:  3.533666 \n",
      "paternal effect (intercept) estimate log likelihood:  13.93453 OLS:  9.375522 \n",
      "maternal effect (slope) estimate log likelihood:  1e-08 OLS:  -0.3408031 \n",
      "paternal effect (slope) estimate log likelihood:  0.9241126 OLS:  0.01835059 \n",
      "paternal / maternal ratio:  92411263 OLS:  -0.05384513 \n"
     ]
    }
   ],
   "source": [
    "df_baboon <- read.csv(\"./output/phased_counts/baboon_wang_phased_counts.csv\")\n",
    "df_baboon$paternal_age <- df_baboon$paternal_age - 5.4\n",
    "df_baboon$maternal_age <- df_baboon$maternal_age - 5.4\n",
    "baboon_output <- estimate_paternal_maternal_effects(df_baboon, 1.5, 0.5, 6, 0.5, print_output=TRUE)\n"
   ]
  },
  {
   "cell_type": "markdown",
   "metadata": {},
   "source": [
    "## Cat"
   ]
  },
  {
   "cell_type": "code",
   "execution_count": 7,
   "metadata": {
    "vscode": {
     "languageId": "r"
    }
   },
   "outputs": [
    {
     "name": "stdout",
     "output_type": "stream",
     "text": [
      "total intercept:  14.26869 , total slope:  1.63562 \n",
      "maternal effect (intercept) estimate log likelihood:  4.880136 OLS:  1.473285 \n",
      "paternal effect (intercept) estimate log likelihood:  9.388553 OLS:  6.085556 \n",
      "maternal effect (slope) estimate log likelihood:  0.003037378 OLS:  0.5090104 \n",
      "paternal effect (slope) estimate log likelihood:  1.632583 OLS:  0.673312 \n",
      "paternal / maternal ratio:  537.4973 OLS:  1.322786 \n"
     ]
    }
   ],
   "source": [
    "df_cat <- read.csv(\"./output/phased_counts/cat_phased_counts.csv\")\n",
    "df_cat$paternal_age <- df_cat$paternal_age - 0.5\n",
    "df_cat$maternal_age <- df_cat$maternal_age - 0.5\n",
    "cat_output <- estimate_paternal_maternal_effects(df_cat, 1.5, 0.5, 6, 0.5, print_output=TRUE)\n"
   ]
  },
  {
   "cell_type": "markdown",
   "metadata": {},
   "source": [
    "## Chimp"
   ]
  },
  {
   "cell_type": "code",
   "execution_count": 8,
   "metadata": {
    "vscode": {
     "languageId": "r"
    }
   },
   "outputs": [
    {
     "name": "stdout",
     "output_type": "stream",
     "text": [
      "total intercept:  10.06807 , total slope:  4.478099 \n",
      "maternal effect (intercept) estimate log likelihood:  5.882468 OLS:  2.068739 \n",
      "paternal effect (intercept) estimate log likelihood:  4.185606 OLS:  2.450709 \n",
      "maternal effect (slope) estimate log likelihood:  0.2456793 OLS:  0.166378 \n",
      "paternal effect (slope) estimate log likelihood:  4.23242 OLS:  1.499545 \n",
      "paternal / maternal ratio:  17.22741 OLS:  9.012885 \n"
     ]
    }
   ],
   "source": [
    "df_chimp <- data.frame(total=c(45, 57, 18, 42, 18, 28, 55),\n",
    "    paternal_count=c(11, 17, 7, 16, 3, 10, 19),\n",
    "    maternal_count=c(5, 5, 1, 1, 1, 1, 5), \n",
    "    paternal_age=c(21, 23.9, 14.7, 20.22, 15.63, 18.39, 21.07), \n",
    "    maternal_age=c(21, 15.89, 14.79, 12.22, 15.72, 18.48, 13.06)\n",
    "    )\n",
    "df_chimp$unphased_count <- df_chimp$total - df_chimp$paternal_count - df_chimp$maternal_count\n",
    "df_chimp$paternal_age <- df_chimp$paternal_age - 13\n",
    "df_chimp$maternal_age <- df_chimp$maternal_age - 12\n",
    "\n",
    "chimp_output <- estimate_paternal_maternal_effects(df_chimp, 1, 1, 1, 1, print_output=TRUE)"
   ]
  },
  {
   "cell_type": "markdown",
   "metadata": {},
   "source": [
    "## Human"
   ]
  },
  {
   "cell_type": "code",
   "execution_count": 9,
   "metadata": {
    "vscode": {
     "languageId": "r"
    }
   },
   "outputs": [
    {
     "name": "stdout",
     "output_type": "stream",
     "text": [
      "total intercept:  37.0213 , total slope:  1.934757 \n",
      "maternal effect (intercept) estimate log likelihood:  8.556946 OLS:  3.277745 \n",
      "paternal effect (intercept) estimate log likelihood:  28.46435 OLS:  11.32291 \n",
      "maternal effect (slope) estimate log likelihood:  0.4185496 OLS:  0.1718944 \n",
      "paternal effect (slope) estimate log likelihood:  1.516207 OLS:  0.5947766 \n",
      "paternal / maternal ratio:  3.622527 OLS:  3.460128 \n"
     ]
    }
   ],
   "source": [
    "df_human <- read.csv(\"./output/phased_counts/human_phased_counts.csv\")\n",
    "df_human$paternal_age <- df_human$paternal_age - 14\n",
    "df_human$maternal_age <- df_human$maternal_age - 14 \n",
    "human_output <- estimate_paternal_maternal_effects(df_human, 2, 0.39, 5.5, 1.41, print_output=TRUE)\n"
   ]
  },
  {
   "cell_type": "markdown",
   "metadata": {},
   "source": [
    "## Macaque"
   ]
  },
  {
   "cell_type": "code",
   "execution_count": 10,
   "metadata": {
    "vscode": {
     "languageId": "r"
    }
   },
   "outputs": [
    {
     "name": "stdout",
     "output_type": "stream",
     "text": [
      "total intercept:  15.05112 , total slope:  1.918352 \n",
      "maternal effect (intercept) estimate log likelihood:  6.065233 OLS:  1.379759 \n",
      "paternal effect (intercept) estimate log likelihood:  8.98589 OLS:  0.9457353 \n",
      "maternal effect (slope) estimate log likelihood:  0.2539662 OLS:  0.2111631 \n",
      "paternal effect (slope) estimate log likelihood:  1.664385 OLS:  1.24677 \n",
      "paternal / maternal ratio:  6.553571 OLS:  5.904299 \n"
     ]
    }
   ],
   "source": [
    "df_macaque_wang <- read.csv(\"./output/phased_counts/macaque_wang_phased_counts.csv\")\n",
    "df_macaque_wang$paternal_age <- df_macaque_wang$paternal_age - 2.5\n",
    "df_macaque_wang$maternal_age <- df_macaque_wang$maternal_age - 2.5 \n",
    "macaque_wang_output <- estimate_paternal_maternal_effects(df_macaque_wang, 1, 0.5, 1, 1, print_output=TRUE)"
   ]
  },
  {
   "cell_type": "markdown",
   "metadata": {},
   "source": [
    "## Mouse"
   ]
  },
  {
   "cell_type": "code",
   "execution_count": 11,
   "metadata": {
    "vscode": {
     "languageId": "r"
    }
   },
   "outputs": [
    {
     "name": "stderr",
     "output_type": "stream",
     "text": [
      "Warning message in mle2(parental_effect_log_likelihood, start = list(beta_m_0 = beta_m_0_ini, :\n",
      "“some parameters are on the boundary: variance-covariance calculations based on Hessian may be unreliable”\n"
     ]
    },
    {
     "name": "stdout",
     "output_type": "stream",
     "text": [
      "total intercept:  18.15763 , total slope:  6.618493 \n",
      "maternal effect (intercept) estimate log likelihood:  5.745781 OLS:  1.322091 \n",
      "paternal effect (intercept) estimate log likelihood:  12.41185 OLS:  2.787753 \n",
      "maternal effect (slope) estimate log likelihood:  1e-08 OLS:  0.6660575 \n",
      "paternal effect (slope) estimate log likelihood:  6.618493 OLS:  3.652758 \n",
      "paternal / maternal ratio:  661849328 OLS:  5.484148 \n"
     ]
    }
   ],
   "source": [
    "df_mouse <- read.csv(\"./output/phased_counts/mouse_phased_counts.csv\")\n",
    "df_mouse$paternal_age <- df_mouse$paternal_age - 0.15\n",
    "df_mouse$maternal_age <- df_mouse$maternal_age - 0.15 \n",
    "mouse_output <- estimate_paternal_maternal_effects(df_mouse, 1, 1, 8, 0.1, print_output=TRUE)"
   ]
  },
  {
   "cell_type": "markdown",
   "metadata": {},
   "source": [
    "## Owl monkey"
   ]
  },
  {
   "cell_type": "code",
   "execution_count": 12,
   "metadata": {
    "vscode": {
     "languageId": "r"
    }
   },
   "outputs": [
    {
     "name": "stderr",
     "output_type": "stream",
     "text": [
      "Warning message in mle2(parental_effect_log_likelihood, start = list(beta_m_0 = beta_m_0_ini, :\n",
      "“some parameters are on the boundary: variance-covariance calculations based on Hessian may be unreliable”\n"
     ]
    },
    {
     "name": "stdout",
     "output_type": "stream",
     "text": [
      "total intercept:  9.921826 , total slope:  1.824674 \n",
      "maternal effect (intercept) estimate log likelihood:  5.731455 OLS:  6.265086 \n",
      "paternal effect (intercept) estimate log likelihood:  4.190371 OLS:  8.512939 \n",
      "maternal effect (slope) estimate log likelihood:  1e-08 OLS:  -0.6934057 \n",
      "paternal effect (slope) estimate log likelihood:  1.824674 OLS:  -0.6101195 \n",
      "paternal / maternal ratio:  182467405 OLS:  0.8798883 \n"
     ]
    }
   ],
   "source": [
    "df_owl_monkey <- read.csv(\"./output/phased_counts/owl_monkey_phased_counts.csv\")\n",
    "df_owl_monkey$paternal_age <- df_owl_monkey$paternal_age - 1\n",
    "df_owl_monkey$maternal_age <- df_owl_monkey$maternal_age - 1\n",
    "owl_monkey_output <- estimate_paternal_maternal_effects(df_owl_monkey, 1, 1, 8, 0.1, print_output=TRUE)\n"
   ]
  }
 ],
 "metadata": {
  "kernelspec": {
   "display_name": "R",
   "language": "R",
   "name": "ir"
  },
  "language_info": {
   "codemirror_mode": "r",
   "file_extension": ".r",
   "mimetype": "text/x-r-source",
   "name": "R",
   "pygments_lexer": "r",
   "version": "4.2.3"
  }
 },
 "nbformat": 4,
 "nbformat_minor": 2
}
