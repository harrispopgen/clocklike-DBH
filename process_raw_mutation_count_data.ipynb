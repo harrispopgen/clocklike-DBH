{
 "cells": [
  {
   "cell_type": "code",
   "execution_count": 1,
   "metadata": {},
   "outputs": [],
   "source": [
    "import numpy as np\n",
    "import pandas as pd"
   ]
  },
  {
   "cell_type": "code",
   "execution_count": 37,
   "metadata": {},
   "outputs": [
    {
     "name": "stdout",
     "output_type": "stream",
     "text": [
      "   sample_id  maternal_count  paternal_count  unphased_count  total\n",
      "0     100947              23               7              87    117\n",
      "1     100944               8              10              57     75\n",
      "2     100941               1              11              24     36\n",
      "3     100946               3               4              19     26\n",
      "4     100938               1               9              38     48\n"
     ]
    }
   ],
   "source": [
    "def load_aye_aye_hahn_data():\n",
    "    denovo_filename = \"./data/denovo_tables/ayeaye_hahn_denovo_table.csv\"\n",
    "    df = pd.read_csv(denovo_filename, sep=\",\")\n",
    "    # group by Offsprint_ID, then get the count of M \n",
    "    offspring_ids = df[\"Offspring_ID\"].unique()\n",
    "\n",
    "    count_data = []\n",
    "    id_list = []\n",
    "    for oi in offspring_ids:\n",
    "        id_list.append(oi)\n",
    "        df_s = df[df[\"Offspring_ID\"] == oi]\n",
    "        unique_count = df_s[\"POOHA\"].value_counts(dropna=False)\n",
    "        maternal_count = 0 if \"M\" not in unique_count else unique_count[\"M\"]\n",
    "        row = {\"sample_id\": oi, \"maternal_count\": maternal_count, \"paternal_count\": unique_count[\"P\"], \"unphased_count\": unique_count[np.nan], \"total\": len(df_s)}\n",
    "        assert np.sum(unique_count) == len(df_s)\n",
    "        count_data.append(row)\n",
    "        # paternal_count, maternal_count, total, unphased_count, paternal_age, maternal_age\n",
    "    df_count = pd.DataFrame(count_data)#, index=id_list)\n",
    "    print(df_count.head())\n",
    "\n",
    "    age_filename = \"./data/mutation_rate_individual_species/Ayeaye_Wang_2024.xlsx\"\n",
    "    # age_of_puberty = age_of_puberty[\"Aye_aye\"]\n",
    "    df_age = pd.read_excel(age_filename, converters={\"maternal_age\": float, \"paternal_age\": float, \"mutation_count\": int})[[\"sample_id\", \"paternal_age\", \"maternal_age\"]]\n",
    "    assert set(df_count[\"sample_id\"]) == set(df_age[\"sample_id\"])\n",
    "    # df_age = df_age.set_index(\"sample_id\")\n",
    "    df_merge = pd.merge(df_age, df_count, on=\"sample_id\")\n",
    "    df_merge.to_csv(\"./output/phased_counts/ayeaye_wang_phased_counts.csv\", index=False)\n",
    "    # print(df_count)\n",
    "\n",
    "load_aye_aye_hahn_data()"
   ]
  }
 ],
 "metadata": {
  "kernelspec": {
   "display_name": "dbh_paper",
   "language": "python",
   "name": "python3"
  },
  "language_info": {
   "codemirror_mode": {
    "name": "ipython",
    "version": 3
   },
   "file_extension": ".py",
   "mimetype": "text/x-python",
   "name": "python",
   "nbconvert_exporter": "python",
   "pygments_lexer": "ipython3",
   "version": "3.11.5"
  }
 },
 "nbformat": 4,
 "nbformat_minor": 2
}
